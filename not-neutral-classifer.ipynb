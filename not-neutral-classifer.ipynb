{
 "cells": [
  {
   "cell_type": "code",
   "execution_count": 1,
   "metadata": {},
   "outputs": [],
   "source": [
    "import pickle\n",
    "import csv\n",
    "import os\n",
    "import nltk\n",
    "import numpy as np\n",
    "\n",
    "from sklearn.naive_bayes import GaussianNB\n",
    "from preprocessors import clean, tokenize, remove_stopwords"
   ]
  },
  {
   "cell_type": "markdown",
   "metadata": {},
   "source": [
    "#### Stopwords"
   ]
  },
  {
   "cell_type": "code",
   "execution_count": 2,
   "metadata": {},
   "outputs": [],
   "source": [
    "with open('id.stopwords.02.01.2016.txt', 'r') as file:\n",
    "    csv = csv.reader(file)\n",
    "    stopwords = []\n",
    "    for row in csv:\n",
    "        stopwords += row"
   ]
  },
  {
   "cell_type": "markdown",
   "metadata": {},
   "source": [
    "#### Load Tweets"
   ]
  },
  {
   "cell_type": "code",
   "execution_count": 5,
   "metadata": {},
   "outputs": [
    {
     "data": {
      "text/plain": [
       "566"
      ]
     },
     "execution_count": 5,
     "metadata": {},
     "output_type": "execute_result"
    }
   ],
   "source": [
    "tweet_dir = os.path.join(os.getcwd(), 'tweet-data')\n",
    "tweet_data = [os.path.join(tweet_dir, f) for f in os.listdir(tweet_dir)]\n",
    "tweet_data[0:2]\n",
    "\n",
    "tweets = []\n",
    "for file in tweet_data:\n",
    "    with open(file, 'rb') as input:\n",
    "        tweets += pickle.load(input)\n",
    "        \n",
    "len(tweets)"
   ]
  },
  {
   "cell_type": "markdown",
   "metadata": {},
   "source": [
    "#### Creating Bag of Words"
   ]
  },
  {
   "cell_type": "code",
   "execution_count": 6,
   "metadata": {},
   "outputs": [
    {
     "name": "stdout",
     "output_type": "stream",
     "text": [
      "FreqDist({'yg': 184, 'prabowo': 123, 'presiden': 118, 'jokowi': 115, '@prabowo': 103, '@jokowi': 74, '#prabowosandi': 53, '#jokowi2periode': 53, 'sandi': 50, '@sandiuno': 49, ...})\n"
     ]
    },
    {
     "data": {
      "text/plain": [
       "3627"
      ]
     },
     "execution_count": 6,
     "metadata": {},
     "output_type": "execute_result"
    }
   ],
   "source": [
    "def clean_tokens(tweet):\n",
    "    return remove_stopwords(tokenize(clean(tweet['text'])), stopwords)\n",
    "\n",
    "def create_fdist(tweets):\n",
    "    words = []\n",
    "    for tweet in tweets:\n",
    "        words += clean_tokens(tweet)\n",
    "    return nltk.probability.FreqDist(words)\n",
    "\n",
    "fdist = create_fdist(tweets)\n",
    "fdist.pprint()\n",
    "len(fdist)"
   ]
  },
  {
   "cell_type": "code",
   "execution_count": 14,
   "metadata": {},
   "outputs": [],
   "source": [
    "def extract_feature(tweet, features, capres):\n",
    "    tokens = clean_tokens(tweet)\n",
    "    fdist = nltk.probability.FreqDist(tokens)\n",
    "    label = tweet['aspect'][capres]\n",
    "    return np.hstack(([fdist[f] for f in features], label))\n",
    "\n",
    "def create_feature_matrix(tweets, features, capres):\n",
    "    feature_matrix = np.array([]).reshape(0, len(features)+1)\n",
    "    for tweet in tweets:\n",
    "        row = extract_feature(tweet, features, capres)\n",
    "        if row[-1] != 0:\n",
    "            # Removed neutral tweets\n",
    "            feature_matrix = np.vstack((feature_matrix, row))\n",
    "    return feature_matrix"
   ]
  },
  {
   "cell_type": "code",
   "execution_count": 15,
   "metadata": {},
   "outputs": [],
   "source": [
    "features = [word for word, count in fdist.most_common(1461)]\n",
    "feature_matrix_jokowi = create_feature_matrix(tweets, features, 'jokowi')\n",
    "feature_matrix_prabowo = create_feature_matrix(tweets, features, 'prabowo')"
   ]
  },
  {
   "cell_type": "code",
   "execution_count": 16,
   "metadata": {},
   "outputs": [],
   "source": [
    "train_jokowi = feature_matrix_jokowi[:, :-1]\n",
    "label_jokowi = feature_matrix_jokowi[:, -1:].flatten()\n",
    "\n",
    "train_prabowo = feature_matrix_prabowo[:, :-1]\n",
    "label_prabowo = feature_matrix_prabowo[:, -1:].flatten()"
   ]
  },
  {
   "cell_type": "code",
   "execution_count": 17,
   "metadata": {},
   "outputs": [
    {
     "data": {
      "text/plain": [
       "GaussianNB(priors=None)"
      ]
     },
     "execution_count": 17,
     "metadata": {},
     "output_type": "execute_result"
    }
   ],
   "source": [
    "nbc_jokowi = GaussianNB()\n",
    "nbc_jokowi.fit(train_jokowi, label_jokowi)\n",
    "\n",
    "nbc_prabowo = GaussianNB()\n",
    "nbc_prabowo.fit(train_prabowo, label_prabowo)"
   ]
  },
  {
   "cell_type": "code",
   "execution_count": 18,
   "metadata": {},
   "outputs": [
    {
     "name": "stdout",
     "output_type": "stream",
     "text": [
      "0.996078431373 0.980694980695\n"
     ]
    }
   ],
   "source": [
    "print(nbc_jokowi.score(train_jokowi, label_jokowi), \\\n",
    "      nbc_prabowo.score(train_prabowo, label_prabowo))"
   ]
  }
 ],
 "metadata": {
  "kernelspec": {
   "display_name": "Python 3",
   "language": "python",
   "name": "python3"
  },
  "language_info": {
   "codemirror_mode": {
    "name": "ipython",
    "version": 3
   },
   "file_extension": ".py",
   "mimetype": "text/x-python",
   "name": "python",
   "nbconvert_exporter": "python",
   "pygments_lexer": "ipython3",
   "version": "3.5.2"
  }
 },
 "nbformat": 4,
 "nbformat_minor": 2
}

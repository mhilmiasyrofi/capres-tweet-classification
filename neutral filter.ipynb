{
 "cells": [
  {
   "cell_type": "code",
   "execution_count": 16,
   "metadata": {},
   "outputs": [],
   "source": [
    "from preprocessors import clean, remove_stopwords, tokenize\n",
    "import pickle\n",
    "import os\n",
    "import csv\n",
    "\n",
    "import pandas as pd\n",
    "import numpy as np\n",
    "\n",
    "import nltk\n",
    "from sklearn.naive_bayes import GaussianNB\n",
    "from sklearn.linear_model import LogisticRegression\n",
    "from sklearn.model_selection import train_test_split"
   ]
  },
  {
   "cell_type": "code",
   "execution_count": 2,
   "metadata": {},
   "outputs": [],
   "source": [
    "with open('id.stopwords.02.01.2016.txt', 'r') as file:\n",
    "    csv = csv.reader(file)\n",
    "    stopwords = []\n",
    "    for row in csv:\n",
    "        stopwords += row"
   ]
  },
  {
   "cell_type": "code",
   "execution_count": 3,
   "metadata": {},
   "outputs": [],
   "source": [
    "tweets = []\n",
    "for filename in os.listdir('tweet-data/'):\n",
    "    subdata = pickle.load(open('tweet-data/' + filename, 'rb'))\n",
    "    tweets = tweets + subdata"
   ]
  },
  {
   "cell_type": "code",
   "execution_count": 4,
   "metadata": {},
   "outputs": [
    {
     "name": "stdout",
     "output_type": "stream",
     "text": [
      "FreqDist({'yg': 184, 'prabowo': 123, 'presiden': 118, 'jokowi': 115, '@prabowo': 103, '@jokowi': 74, '#jokowi2periode': 53, '#prabowosandi': 53, 'sandi': 50, 'boyolali': 49, ...})\n"
     ]
    },
    {
     "data": {
      "text/plain": [
       "3627"
      ]
     },
     "execution_count": 4,
     "metadata": {},
     "output_type": "execute_result"
    }
   ],
   "source": [
    "def clean_tokens(tweet):\n",
    "    return remove_stopwords(tokenize(clean(tweet['text'])), stopwords)\n",
    "\n",
    "def create_fdist(tweets):\n",
    "    words = []\n",
    "    for tweet in tweets:\n",
    "        words += clean_tokens(tweet)\n",
    "    return nltk.probability.FreqDist(words)\n",
    "\n",
    "fdist = create_fdist(tweets)\n",
    "fdist.pprint()\n",
    "len(fdist)"
   ]
  },
  {
   "cell_type": "code",
   "execution_count": 5,
   "metadata": {},
   "outputs": [],
   "source": [
    "def extract_feature(tweet, features, capres):\n",
    "    tokens = clean_tokens(tweet)\n",
    "    fdist = nltk.probability.FreqDist(tokens)\n",
    "    label = tweet['aspect'][capres]\n",
    "    return np.hstack(([fdist[f] for f in features], label))\n",
    "\n",
    "def create_feature_matrix(tweets, features, capres):\n",
    "    feature_matrix = np.array([]).reshape(0, len(features)+1)\n",
    "    for tweet in tweets:\n",
    "        row = extract_feature(tweet, features, capres)\n",
    "        if row[-1] != 0:\n",
    "            row[-1] = 1\n",
    "        feature_matrix = np.vstack((feature_matrix, row))\n",
    "    return feature_matrix"
   ]
  },
  {
   "cell_type": "code",
   "execution_count": 43,
   "metadata": {},
   "outputs": [],
   "source": [
    "features = [word for word, count in fdist.most_common(800)]\n",
    "feature_matrix_jokowi = create_feature_matrix(tweets, features, 'jokowi')\n",
    "feature_matrix_prabowo = create_feature_matrix(tweets, features, 'prabowo')"
   ]
  },
  {
   "cell_type": "code",
   "execution_count": 44,
   "metadata": {},
   "outputs": [
    {
     "data": {
      "text/plain": [
       "array([[0., 0., 0., ..., 0., 0., 0.],\n",
       "       [0., 0., 0., ..., 0., 0., 1.],\n",
       "       [0., 0., 0., ..., 0., 0., 1.],\n",
       "       ...,\n",
       "       [2., 0., 1., ..., 0., 0., 1.],\n",
       "       [0., 0., 0., ..., 0., 0., 1.],\n",
       "       [0., 0., 0., ..., 0., 0., 1.]])"
      ]
     },
     "execution_count": 44,
     "metadata": {},
     "output_type": "execute_result"
    }
   ],
   "source": [
    "feature_matrix_jokowi"
   ]
  },
  {
   "cell_type": "code",
   "execution_count": 45,
   "metadata": {},
   "outputs": [],
   "source": [
    "train_jokowi = feature_matrix_jokowi[:, :-1]\n",
    "label_jokowi = feature_matrix_jokowi[:, -1:].flatten()\n",
    "train_jokowi, validation_jokowi, label_jokowi, label_validation_jokowi = train_test_split(train_jokowi, label_jokowi, test_size=0.1, random_state=12121)\n",
    "\n",
    "train_prabowo = feature_matrix_prabowo[:, :-1]\n",
    "label_prabowo = feature_matrix_prabowo[:, -1:].flatten()\n",
    "train_prabowo, validation_prabowo, label_prabowo, label_validation_prabowo = train_test_split(train_prabowo, label_prabowo, test_size=0.1, random_state=12121)"
   ]
  },
  {
   "cell_type": "code",
   "execution_count": 46,
   "metadata": {},
   "outputs": [
    {
     "data": {
      "text/plain": [
       "LogisticRegression(C=1.0, class_weight=None, dual=False, fit_intercept=True,\n",
       "          intercept_scaling=1, max_iter=100, multi_class='ovr', n_jobs=1,\n",
       "          penalty='l2', random_state=None, solver='liblinear', tol=0.0001,\n",
       "          verbose=0, warm_start=False)"
      ]
     },
     "execution_count": 46,
     "metadata": {},
     "output_type": "execute_result"
    }
   ],
   "source": [
    "nbc_jokowi = GaussianNB()\n",
    "nbc_jokowi.fit(train_jokowi, label_jokowi)\n",
    "nbc_prabowo = GaussianNB()\n",
    "nbc_prabowo.fit(train_prabowo, label_prabowo)\n",
    "\n",
    "lr_jokowi = LogisticRegression()\n",
    "lr_jokowi.fit(train_jokowi, label_jokowi)\n",
    "lr_prabowo = LogisticRegression()\n",
    "lr_prabowo.fit(train_prabowo, label_prabowo)"
   ]
  },
  {
   "cell_type": "code",
   "execution_count": 47,
   "metadata": {},
   "outputs": [
    {
     "name": "stdout",
     "output_type": "stream",
     "text": [
      "0.8644400785854617 0.831041257367387\n",
      "0.9646365422396856 0.9646365422396856\n",
      "\n",
      "0.7192982456140351 0.7368421052631579\n",
      "0.8245614035087719 0.8245614035087719\n"
     ]
    }
   ],
   "source": [
    "print(nbc_jokowi.score(train_jokowi, label_jokowi), \\\n",
    "      nbc_prabowo.score(train_prabowo, label_prabowo))\n",
    "\n",
    "print(lr_jokowi.score(train_jokowi, label_jokowi), \\\n",
    "      lr_prabowo.score(train_prabowo, label_prabowo))\n",
    "\n",
    "print('')\n",
    "\n",
    "print(nbc_jokowi.score(validation_jokowi, label_validation_jokowi), \\\n",
    "      nbc_prabowo.score(validation_prabowo, label_validation_prabowo))\n",
    "\n",
    "print(lr_jokowi.score(validation_jokowi, label_validation_jokowi), \\\n",
    "      lr_prabowo.score(validation_prabowo, label_validation_prabowo))"
   ]
  },
  {
   "cell_type": "code",
   "execution_count": null,
   "metadata": {},
   "outputs": [],
   "source": []
  }
 ],
 "metadata": {
  "kernelspec": {
   "display_name": "Python 3",
   "language": "python",
   "name": "python3"
  },
  "language_info": {
   "codemirror_mode": {
    "name": "ipython",
    "version": 3
   },
   "file_extension": ".py",
   "mimetype": "text/x-python",
   "name": "python",
   "nbconvert_exporter": "python",
   "pygments_lexer": "ipython3",
   "version": "3.6.5"
  }
 },
 "nbformat": 4,
 "nbformat_minor": 2
}

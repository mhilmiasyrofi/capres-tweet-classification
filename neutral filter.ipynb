{
 "cells": [
  {
   "cell_type": "code",
   "execution_count": 35,
   "metadata": {},
   "outputs": [],
   "source": [
    "from preprocessors import clean, remove_stopwords, tokenize\n",
    "import pickle\n",
    "import os\n",
    "import csv\n",
    "\n",
    "import pandas as pd\n",
    "import numpy as np\n",
    "\n",
    "import nltk\n",
    "from sklearn.naive_bayes import GaussianNB"
   ]
  },
  {
   "cell_type": "code",
   "execution_count": 4,
   "metadata": {},
   "outputs": [],
   "source": [
    "with open('id.stopwords.02.01.2016.txt', 'r') as file:\n",
    "    csv = csv.reader(file)\n",
    "    stopwords = []\n",
    "    for row in csv:\n",
    "        stopwords += row"
   ]
  },
  {
   "cell_type": "code",
   "execution_count": 6,
   "metadata": {},
   "outputs": [],
   "source": [
    "tweets = []\n",
    "for filename in os.listdir('tweet-data/'):\n",
    "    subdata = pickle.load(open('tweet-data/' + filename, 'rb'))\n",
    "    tweets = tweets + subdata"
   ]
  },
  {
   "cell_type": "code",
   "execution_count": 9,
   "metadata": {},
   "outputs": [
    {
     "name": "stdout",
     "output_type": "stream",
     "text": [
      "FreqDist({'yg': 184, 'prabowo': 123, 'presiden': 118, 'jokowi': 115, '@prabowo': 103, '@jokowi': 74, '#jokowi2periode': 53, '#prabowosandi': 53, 'sandi': 50, 'boyolali': 49, ...})\n"
     ]
    },
    {
     "data": {
      "text/plain": [
       "3627"
      ]
     },
     "execution_count": 9,
     "metadata": {},
     "output_type": "execute_result"
    }
   ],
   "source": [
    "def clean_tokens(tweet):\n",
    "    return remove_stopwords(tokenize(clean(tweet['text'])), stopwords)\n",
    "\n",
    "def create_fdist(tweets):\n",
    "    words = []\n",
    "    for tweet in tweets:\n",
    "        words += clean_tokens(tweet)\n",
    "    return nltk.probability.FreqDist(words)\n",
    "\n",
    "fdist = create_fdist(tweets)\n",
    "fdist.pprint()\n",
    "len(fdist)"
   ]
  },
  {
   "cell_type": "code",
   "execution_count": 31,
   "metadata": {},
   "outputs": [],
   "source": [
    "def extract_feature(tweet, features, capres):\n",
    "    tokens = clean_tokens(tweet)\n",
    "    fdist = nltk.probability.FreqDist(tokens)\n",
    "    label = tweet['aspect'][capres]\n",
    "    return np.hstack(([fdist[f] for f in features], label))\n",
    "\n",
    "def create_feature_matrix(tweets, features, capres):\n",
    "    feature_matrix = np.array([]).reshape(0, len(features)+1)\n",
    "    for tweet in tweets:\n",
    "        row = extract_feature(tweet, features, capres)\n",
    "        if row[-1] != 0:\n",
    "            row[-1] = 1\n",
    "        feature_matrix = np.vstack((feature_matrix, row))\n",
    "    return feature_matrix"
   ]
  },
  {
   "cell_type": "code",
   "execution_count": 55,
   "metadata": {},
   "outputs": [],
   "source": [
    "features = [word for word, count in fdist.most_common(1000)]\n",
    "feature_matrix_jokowi = create_feature_matrix(tweets, features, 'jokowi')\n",
    "feature_matrix_prabowo = create_feature_matrix(tweets, features, 'prabowo')"
   ]
  },
  {
   "cell_type": "code",
   "execution_count": 56,
   "metadata": {},
   "outputs": [
    {
     "data": {
      "text/plain": [
       "array([[0., 0., 0., ..., 0., 0., 0.],\n",
       "       [0., 0., 0., ..., 0., 0., 1.],\n",
       "       [0., 0., 0., ..., 0., 0., 1.],\n",
       "       ...,\n",
       "       [2., 0., 1., ..., 0., 0., 1.],\n",
       "       [0., 0., 0., ..., 0., 0., 1.],\n",
       "       [0., 0., 0., ..., 0., 0., 1.]])"
      ]
     },
     "execution_count": 56,
     "metadata": {},
     "output_type": "execute_result"
    }
   ],
   "source": [
    "feature_matrix_jokowi"
   ]
  },
  {
   "cell_type": "code",
   "execution_count": 57,
   "metadata": {},
   "outputs": [],
   "source": [
    "train_jokowi = feature_matrix_jokowi[:, :-1]\n",
    "label_jokowi = feature_matrix_jokowi[:, -1:].flatten()\n",
    "\n",
    "train_prabowo = feature_matrix_prabowo[:, :-1]\n",
    "label_prabowo = feature_matrix_prabowo[:, -1:].flatten()"
   ]
  },
  {
   "cell_type": "code",
   "execution_count": 58,
   "metadata": {},
   "outputs": [
    {
     "data": {
      "text/plain": [
       "GaussianNB(priors=None)"
      ]
     },
     "execution_count": 58,
     "metadata": {},
     "output_type": "execute_result"
    }
   ],
   "source": [
    "nbc_jokowi = GaussianNB()\n",
    "nbc_jokowi.fit(train_jokowi, label_jokowi)\n",
    "\n",
    "nbc_prabowo = GaussianNB()\n",
    "nbc_prabowo.fit(train_prabowo, label_prabowo)"
   ]
  },
  {
   "cell_type": "code",
   "execution_count": 59,
   "metadata": {},
   "outputs": [
    {
     "name": "stdout",
     "output_type": "stream",
     "text": [
      "0.8975265017667845 0.8250883392226148\n"
     ]
    }
   ],
   "source": [
    "print(nbc_jokowi.score(train_jokowi, label_jokowi), \\\n",
    "      nbc_prabowo.score(train_prabowo, label_prabowo))"
   ]
  },
  {
   "cell_type": "code",
   "execution_count": 62,
   "metadata": {},
   "outputs": [
    {
     "ename": "SyntaxError",
     "evalue": "invalid syntax (<ipython-input-62-57e32467ed32>, line 1)",
     "output_type": "error",
     "traceback": [
      "\u001b[0;36m  File \u001b[0;32m\"<ipython-input-62-57e32467ed32>\"\u001b[0;36m, line \u001b[0;32m1\u001b[0m\n\u001b[0;31m    for key, value in sorted(fdist.iteritems(), key=lambda (k,v): (v,k)):\u001b[0m\n\u001b[0m                                                           ^\u001b[0m\n\u001b[0;31mSyntaxError\u001b[0m\u001b[0;31m:\u001b[0m invalid syntax\n"
     ]
    }
   ],
   "source": []
  },
  {
   "cell_type": "code",
   "execution_count": null,
   "metadata": {},
   "outputs": [],
   "source": []
  }
 ],
 "metadata": {
  "kernelspec": {
   "display_name": "Python 3",
   "language": "python",
   "name": "python3"
  },
  "language_info": {
   "codemirror_mode": {
    "name": "ipython",
    "version": 3
   },
   "file_extension": ".py",
   "mimetype": "text/x-python",
   "name": "python",
   "nbconvert_exporter": "python",
   "pygments_lexer": "ipython3",
   "version": "3.6.5"
  }
 },
 "nbformat": 4,
 "nbformat_minor": 2
}
